{
 "cells": [
  {
   "cell_type": "code",
   "execution_count": 1,
   "id": "dcac23c2-7df7-4020-ae3a-b78ba80b25a2",
   "metadata": {},
   "outputs": [],
   "source": [
    "import pandas as pd\n",
    "import numpy as np\n",
    "import matplotlib.pyplot as plt\n",
    "import seaborn as sns"
   ]
  },
  {
   "cell_type": "code",
   "execution_count": 3,
   "id": "656f95f3-0ae1-4bd4-a28e-c54587f240d2",
   "metadata": {},
   "outputs": [],
   "source": [
    "chicago_df = pd.read_csv('Crimes_-_2001_to_Present.csv')\n",
    "atlanta_df = pd.read_csv('Atlanta 2015-2020.csv', low_memory=False)\n",
    "la_df = pd.read_csv('crimes.csv')"
   ]
  },
  {
   "cell_type": "code",
   "execution_count": 5,
   "id": "96cfd0c5-eb50-4254-a4ba-6124f52adcb4",
   "metadata": {},
   "outputs": [],
   "source": [
    "chicago_df = chicago_df.drop_duplicates()\n",
    "atlanta_df = atlanta_df.drop_duplicates()\n",
    "la_df = la_df.drop_duplicates()\n"
   ]
  },
  {
   "cell_type": "code",
   "execution_count": 7,
   "id": "e59ce13e-2113-46ae-bb17-8484450fc0ad",
   "metadata": {},
   "outputs": [
    {
     "name": "stdout",
     "output_type": "stream",
     "text": [
      "Index(['DR_NO', 'Date Rptd', 'DATE OCC', 'TIME OCC', 'AREA NAME',\n",
      "       'Crm Cd Desc', 'Vict Age', 'Vict Sex', 'Vict Descent', 'Weapon Desc',\n",
      "       'Status Desc', 'LOCATION'],\n",
      "      dtype='object')\n"
     ]
    }
   ],
   "source": [
    "print(la_df.columns)"
   ]
  },
  {
   "cell_type": "code",
   "execution_count": null,
   "id": "461830c9-11be-4b81-927f-40deb3644759",
   "metadata": {},
   "outputs": [],
   "source": [
    "chicago_df['Primary Type'] = chicago_df['Primary Type'].fillna('Unknown')\n",
    "atlanta_df['offense'] = atlanta_df['offense'].fillna('Unknown')\n",
    "la_df['Crm Cd Desc'] = la_df['Crm Cd Desc'].fillna('Unknown')\n",
    "\n",
    "# Drop rows where Location (Latitude/Longitude) is missing\n",
    "chicago_df = chicago_df.dropna(subset=['Latitude', 'Longitude'])\n",
    "atlanta_df = atlanta_df.dropna(subset=['Location'])   \n",
    "la_df = la_df.dropna(subset=['LOCATION'])             \n"
   ]
  },
  {
   "cell_type": "code",
   "execution_count": null,
   "id": "b4ee0a39-bd22-40e4-a770-49d7a22bc450",
   "metadata": {},
   "outputs": [],
   "source": [
    "chicago_df.rename(columns={'Primary Type': 'Crime_Type', 'Date': 'Date'}, inplace=True)\n",
    "atlanta_df.rename(columns={'Report Date': 'Date', 'offense': 'Crime_Type'}, inplace=True)\n",
    "la_df.rename(columns={'Crm Cd Desc': 'Crime_Type', 'Date Rptd': 'Date'}, inplace=True)\n"
   ]
  },
  {
   "cell_type": "code",
   "execution_count": 15,
   "id": "6089891e-2366-4158-8a9d-2a23d730291a",
   "metadata": {},
   "outputs": [],
   "source": [
    "# Add City column\n",
    "chicago_df['City'] = 'Chicago'\n",
    "atlanta_df['City'] = 'Atlanta'\n",
    "la_df['City'] = 'Los Angeles'\n"
   ]
  },
  {
   "cell_type": "code",
   "execution_count": 25,
   "id": "2ce459a6-70d1-437f-85be-1cec40c0deb4",
   "metadata": {
    "scrolled": true
   },
   "outputs": [
    {
     "ename": "KeyError",
     "evalue": "\"['Crime_Type'] not in index\"",
     "output_type": "error",
     "traceback": [
      "\u001b[1;31m---------------------------------------------------------------------------\u001b[0m",
      "\u001b[1;31mKeyError\u001b[0m                                  Traceback (most recent call last)",
      "Cell \u001b[1;32mIn[25], line 3\u001b[0m\n\u001b[0;32m      1\u001b[0m \u001b[38;5;66;03m# Select only the columns you need\u001b[39;00m\n\u001b[0;32m      2\u001b[0m chicago_df_small \u001b[38;5;241m=\u001b[39m chicago_df[[\u001b[38;5;124m'\u001b[39m\u001b[38;5;124mDate\u001b[39m\u001b[38;5;124m'\u001b[39m, \u001b[38;5;124m'\u001b[39m\u001b[38;5;124mCrime_Type\u001b[39m\u001b[38;5;124m'\u001b[39m, \u001b[38;5;124m'\u001b[39m\u001b[38;5;124mCity\u001b[39m\u001b[38;5;124m'\u001b[39m]]\n\u001b[1;32m----> 3\u001b[0m atlanta_df_small \u001b[38;5;241m=\u001b[39m atlanta_df[[\u001b[38;5;124m'\u001b[39m\u001b[38;5;124mDate\u001b[39m\u001b[38;5;124m'\u001b[39m, \u001b[38;5;124m'\u001b[39m\u001b[38;5;124mCrime_Type\u001b[39m\u001b[38;5;124m'\u001b[39m, \u001b[38;5;124m'\u001b[39m\u001b[38;5;124mCity\u001b[39m\u001b[38;5;124m'\u001b[39m]]\n\u001b[0;32m      4\u001b[0m la_df_small \u001b[38;5;241m=\u001b[39m la_df[[\u001b[38;5;124m'\u001b[39m\u001b[38;5;124mDate\u001b[39m\u001b[38;5;124m'\u001b[39m, \u001b[38;5;124m'\u001b[39m\u001b[38;5;124mCrime_Type\u001b[39m\u001b[38;5;124m'\u001b[39m, \u001b[38;5;124m'\u001b[39m\u001b[38;5;124mCity\u001b[39m\u001b[38;5;124m'\u001b[39m]]\n",
      "File \u001b[1;32m~\\anaconda3\\Lib\\site-packages\\pandas\\core\\frame.py:4108\u001b[0m, in \u001b[0;36mDataFrame.__getitem__\u001b[1;34m(self, key)\u001b[0m\n\u001b[0;32m   4106\u001b[0m     \u001b[38;5;28;01mif\u001b[39;00m is_iterator(key):\n\u001b[0;32m   4107\u001b[0m         key \u001b[38;5;241m=\u001b[39m \u001b[38;5;28mlist\u001b[39m(key)\n\u001b[1;32m-> 4108\u001b[0m     indexer \u001b[38;5;241m=\u001b[39m \u001b[38;5;28mself\u001b[39m\u001b[38;5;241m.\u001b[39mcolumns\u001b[38;5;241m.\u001b[39m_get_indexer_strict(key, \u001b[38;5;124m\"\u001b[39m\u001b[38;5;124mcolumns\u001b[39m\u001b[38;5;124m\"\u001b[39m)[\u001b[38;5;241m1\u001b[39m]\n\u001b[0;32m   4110\u001b[0m \u001b[38;5;66;03m# take() does not accept boolean indexers\u001b[39;00m\n\u001b[0;32m   4111\u001b[0m \u001b[38;5;28;01mif\u001b[39;00m \u001b[38;5;28mgetattr\u001b[39m(indexer, \u001b[38;5;124m\"\u001b[39m\u001b[38;5;124mdtype\u001b[39m\u001b[38;5;124m\"\u001b[39m, \u001b[38;5;28;01mNone\u001b[39;00m) \u001b[38;5;241m==\u001b[39m \u001b[38;5;28mbool\u001b[39m:\n",
      "File \u001b[1;32m~\\anaconda3\\Lib\\site-packages\\pandas\\core\\indexes\\base.py:6200\u001b[0m, in \u001b[0;36mIndex._get_indexer_strict\u001b[1;34m(self, key, axis_name)\u001b[0m\n\u001b[0;32m   6197\u001b[0m \u001b[38;5;28;01melse\u001b[39;00m:\n\u001b[0;32m   6198\u001b[0m     keyarr, indexer, new_indexer \u001b[38;5;241m=\u001b[39m \u001b[38;5;28mself\u001b[39m\u001b[38;5;241m.\u001b[39m_reindex_non_unique(keyarr)\n\u001b[1;32m-> 6200\u001b[0m \u001b[38;5;28mself\u001b[39m\u001b[38;5;241m.\u001b[39m_raise_if_missing(keyarr, indexer, axis_name)\n\u001b[0;32m   6202\u001b[0m keyarr \u001b[38;5;241m=\u001b[39m \u001b[38;5;28mself\u001b[39m\u001b[38;5;241m.\u001b[39mtake(indexer)\n\u001b[0;32m   6203\u001b[0m \u001b[38;5;28;01mif\u001b[39;00m \u001b[38;5;28misinstance\u001b[39m(key, Index):\n\u001b[0;32m   6204\u001b[0m     \u001b[38;5;66;03m# GH 42790 - Preserve name from an Index\u001b[39;00m\n",
      "File \u001b[1;32m~\\anaconda3\\Lib\\site-packages\\pandas\\core\\indexes\\base.py:6252\u001b[0m, in \u001b[0;36mIndex._raise_if_missing\u001b[1;34m(self, key, indexer, axis_name)\u001b[0m\n\u001b[0;32m   6249\u001b[0m     \u001b[38;5;28;01mraise\u001b[39;00m \u001b[38;5;167;01mKeyError\u001b[39;00m(\u001b[38;5;124mf\u001b[39m\u001b[38;5;124m\"\u001b[39m\u001b[38;5;124mNone of [\u001b[39m\u001b[38;5;132;01m{\u001b[39;00mkey\u001b[38;5;132;01m}\u001b[39;00m\u001b[38;5;124m] are in the [\u001b[39m\u001b[38;5;132;01m{\u001b[39;00maxis_name\u001b[38;5;132;01m}\u001b[39;00m\u001b[38;5;124m]\u001b[39m\u001b[38;5;124m\"\u001b[39m)\n\u001b[0;32m   6251\u001b[0m not_found \u001b[38;5;241m=\u001b[39m \u001b[38;5;28mlist\u001b[39m(ensure_index(key)[missing_mask\u001b[38;5;241m.\u001b[39mnonzero()[\u001b[38;5;241m0\u001b[39m]]\u001b[38;5;241m.\u001b[39munique())\n\u001b[1;32m-> 6252\u001b[0m \u001b[38;5;28;01mraise\u001b[39;00m \u001b[38;5;167;01mKeyError\u001b[39;00m(\u001b[38;5;124mf\u001b[39m\u001b[38;5;124m\"\u001b[39m\u001b[38;5;132;01m{\u001b[39;00mnot_found\u001b[38;5;132;01m}\u001b[39;00m\u001b[38;5;124m not in index\u001b[39m\u001b[38;5;124m\"\u001b[39m)\n",
      "\u001b[1;31mKeyError\u001b[0m: \"['Crime_Type'] not in index\""
     ]
    }
   ],
   "source": [
    "# Select only the columns you need\n",
    "chicago_df_small = chicago_df[['Date', 'Crime_Type', 'City']]\n",
    "atlanta_df_small = atlanta_df[['Date', 'Crime_Type', 'City']]\n",
    "la_df_small = la_df[['Date', 'Crime_Type', 'City']]"
   ]
  },
  {
   "cell_type": "code",
   "execution_count": 21,
   "id": "57e98a4e-2712-44a6-ac8e-f233747374b1",
   "metadata": {},
   "outputs": [
    {
     "name": "stdout",
     "output_type": "stream",
     "text": [
      "Index(['Report Number', 'Date', 'Occur Date', 'Occur Time', 'Possible Date',\n",
      "       'Possible Time', 'Location', 'offense', 'Latitude', 'Longitude',\n",
      "       'City'],\n",
      "      dtype='object')\n"
     ]
    }
   ],
   "source": [
    "print(atlanta_df.columns)"
   ]
  },
  {
   "cell_type": "code",
   "execution_count": 23,
   "id": "40dfe674-755b-498f-be11-efa2aa8a9740",
   "metadata": {},
   "outputs": [
    {
     "ename": "NameError",
     "evalue": "name 'atlanta_df_small' is not defined",
     "output_type": "error",
     "traceback": [
      "\u001b[1;31m---------------------------------------------------------------------------\u001b[0m",
      "\u001b[1;31mNameError\u001b[0m                                 Traceback (most recent call last)",
      "Cell \u001b[1;32mIn[23], line 1\u001b[0m\n\u001b[1;32m----> 1\u001b[0m combined_df \u001b[38;5;241m=\u001b[39m pd\u001b[38;5;241m.\u001b[39mconcat([chicago_df_small, atlanta_df_small, la_df_small], ignore_index\u001b[38;5;241m=\u001b[39m\u001b[38;5;28;01mTrue\u001b[39;00m)\n",
      "\u001b[1;31mNameError\u001b[0m: name 'atlanta_df_small' is not defined"
     ]
    }
   ],
   "source": [
    "combined_df = pd.concat([chicago_df_small, atlanta_df_small, la_df_small], ignore_index=True)"
   ]
  },
  {
   "cell_type": "code",
   "execution_count": 27,
   "id": "1323f86a-139b-490f-a24b-724975c526fe",
   "metadata": {},
   "outputs": [
    {
     "ename": "NameError",
     "evalue": "name 'combined_df' is not defined",
     "output_type": "error",
     "traceback": [
      "\u001b[1;31m---------------------------------------------------------------------------\u001b[0m",
      "\u001b[1;31mNameError\u001b[0m                                 Traceback (most recent call last)",
      "Cell \u001b[1;32mIn[27], line 1\u001b[0m\n\u001b[1;32m----> 1\u001b[0m city_counts \u001b[38;5;241m=\u001b[39m combined_df[\u001b[38;5;124m'\u001b[39m\u001b[38;5;124mCity\u001b[39m\u001b[38;5;124m'\u001b[39m]\u001b[38;5;241m.\u001b[39mvalue_counts()\n\u001b[0;32m      2\u001b[0m city_counts\u001b[38;5;241m.\u001b[39mplot(kind\u001b[38;5;241m=\u001b[39m\u001b[38;5;124m'\u001b[39m\u001b[38;5;124mpie\u001b[39m\u001b[38;5;124m'\u001b[39m, autopct\u001b[38;5;241m=\u001b[39m\u001b[38;5;124m'\u001b[39m\u001b[38;5;132;01m%1.1f\u001b[39;00m\u001b[38;5;132;01m%%\u001b[39;00m\u001b[38;5;124m'\u001b[39m, startangle\u001b[38;5;241m=\u001b[39m\u001b[38;5;241m140\u001b[39m, figsize\u001b[38;5;241m=\u001b[39m(\u001b[38;5;241m6\u001b[39m,\u001b[38;5;241m6\u001b[39m))\n\u001b[0;32m      3\u001b[0m plt\u001b[38;5;241m.\u001b[39mtitle(\u001b[38;5;124m'\u001b[39m\u001b[38;5;124mCrime Distribution Across Cities\u001b[39m\u001b[38;5;124m'\u001b[39m)\n",
      "\u001b[1;31mNameError\u001b[0m: name 'combined_df' is not defined"
     ]
    }
   ],
   "source": [
    "city_counts = combined_df['City'].value_counts()\n",
    "city_counts.plot(kind='pie', autopct='%1.1f%%', startangle=140, figsize=(6,6))\n",
    "plt.title('Crime Distribution Across Cities')\n",
    "plt.ylabel('')\n",
    "plt.show()\n"
   ]
  },
  {
   "cell_type": "code",
   "execution_count": null,
   "id": "52a8485d-fc87-4977-b4c0-854a3805e492",
   "metadata": {},
   "outputs": [
    {
     "name": "stderr",
     "output_type": "stream",
     "text": [
      "C:\\Users\\rangi\\AppData\\Local\\Temp\\ipykernel_14200\\2021784529.py:1: UserWarning: Could not infer format, so each element will be parsed individually, falling back to `dateutil`. To ensure parsing is consistent and as-expected, please specify a format.\n",
      "  chicago_df['Date'] = pd.to_datetime(chicago_df['Date'], errors='coerce')\n"
     ]
    }
   ],
   "source": [
    "chicago_df['Date'] = pd.to_datetime(chicago_df['Date'], errors='coerce')\n",
    "atlanta_df['Date'] = pd.to_datetime(atlanta_df['Date'], errors='coerce')\n",
    "la_df['Date'] = pd.to_datetime(la_df['Date'], errors='coerce')"
   ]
  },
  {
   "cell_type": "code",
   "execution_count": null,
   "id": "45faed77-9573-46ba-a11b-145c090fde63",
   "metadata": {},
   "outputs": [],
   "source": []
  }
 ],
 "metadata": {
  "kernelspec": {
   "display_name": "Python [conda env:base] *",
   "language": "python",
   "name": "conda-base-py"
  },
  "language_info": {
   "codemirror_mode": {
    "name": "ipython",
    "version": 3
   },
   "file_extension": ".py",
   "mimetype": "text/x-python",
   "name": "python",
   "nbconvert_exporter": "python",
   "pygments_lexer": "ipython3",
   "version": "3.12.7"
  }
 },
 "nbformat": 4,
 "nbformat_minor": 5
}
